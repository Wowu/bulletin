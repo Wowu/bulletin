{
 "cells": [
  {
   "cell_type": "code",
   "execution_count": 62,
   "metadata": {},
   "outputs": [],
   "source": [
    "import pandas as pd\n",
    "import seaborn as sns\n",
    "import numpy as np\n",
    "import matplotlib.pyplot as plt\n",
    "import glob"
   ]
  },
  {
   "cell_type": "code",
   "execution_count": 63,
   "metadata": {},
   "outputs": [],
   "source": [
    "methods = [\n",
    "    \"s3\",\n",
    "    \"dynamodb\",\n",
    "    \"auto\",\n",
    "]\n",
    "\n",
    "dfs = []\n",
    "\n",
    "for method in methods:\n",
    "  df = pd.concat([pd.read_json(f, lines=True) for f in glob.glob(f'../results/auto/{method}.jsonl')], ignore_index=True)\n",
    "  df['method'] = method\n",
    "  dfs.append(df)\n",
    "\n",
    "df = pd.concat(dfs, ignore_index=True)"
   ]
  },
  {
   "cell_type": "code",
   "execution_count": 64,
   "metadata": {},
   "outputs": [
    {
     "data": {
      "text/html": [
       "<div>\n",
       "<style scoped>\n",
       "    .dataframe tbody tr th:only-of-type {\n",
       "        vertical-align: middle;\n",
       "    }\n",
       "\n",
       "    .dataframe tbody tr th {\n",
       "        vertical-align: top;\n",
       "    }\n",
       "\n",
       "    .dataframe thead th {\n",
       "        text-align: right;\n",
       "    }\n",
       "</style>\n",
       "<table border=\"1\" class=\"dataframe\">\n",
       "  <thead>\n",
       "    <tr style=\"text-align: right;\">\n",
       "      <th></th>\n",
       "      <th>receiver_start_delay</th>\n",
       "      <th>total_time</th>\n",
       "      <th>message_size</th>\n",
       "      <th>sender_usage</th>\n",
       "      <th>receiver_usage</th>\n",
       "      <th>method</th>\n",
       "    </tr>\n",
       "  </thead>\n",
       "  <tbody>\n",
       "    <tr>\n",
       "      <th>0</th>\n",
       "      <td>0.015794</td>\n",
       "      <td>0.270284</td>\n",
       "      <td>1</td>\n",
       "      <td>{'s3:PutObject': 1, 's3:GetObject': 2, 's3:Del...</td>\n",
       "      <td>{'s3:GetObject': 2, 's3:PutObject': 1, 's3:Del...</td>\n",
       "      <td>s3</td>\n",
       "    </tr>\n",
       "  </tbody>\n",
       "</table>\n",
       "</div>"
      ],
      "text/plain": [
       "   receiver_start_delay  total_time  message_size  \\\n",
       "0              0.015794    0.270284             1   \n",
       "\n",
       "                                        sender_usage  \\\n",
       "0  {'s3:PutObject': 1, 's3:GetObject': 2, 's3:Del...   \n",
       "\n",
       "                                      receiver_usage method  \n",
       "0  {'s3:GetObject': 2, 's3:PutObject': 1, 's3:Del...     s3  "
      ]
     },
     "execution_count": 64,
     "metadata": {},
     "output_type": "execute_result"
    }
   ],
   "source": [
    "df.head(1)"
   ]
  },
  {
   "cell_type": "code",
   "execution_count": 65,
   "metadata": {},
   "outputs": [
    {
     "name": "stdout",
     "output_type": "stream",
     "text": [
      "<class 'pandas.core.frame.DataFrame'>\n",
      "RangeIndex: 180 entries, 0 to 179\n",
      "Data columns (total 6 columns):\n",
      " #   Column                Non-Null Count  Dtype  \n",
      "---  ------                --------------  -----  \n",
      " 0   receiver_start_delay  180 non-null    float64\n",
      " 1   total_time            180 non-null    float64\n",
      " 2   message_size          180 non-null    int64  \n",
      " 3   sender_usage          180 non-null    object \n",
      " 4   receiver_usage        180 non-null    object \n",
      " 5   method                180 non-null    object \n",
      "dtypes: float64(2), int64(1), object(3)\n",
      "memory usage: 8.6+ KB\n"
     ]
    }
   ],
   "source": [
    "df.info()"
   ]
  },
  {
   "cell_type": "code",
   "execution_count": 66,
   "metadata": {},
   "outputs": [],
   "source": [
    "# calculate latency\n",
    "df['latency'] = df['total_time'] * 1000 / 2\n",
    "\n",
    "# sum usage\n",
    "def sum_usage(a, b):\n",
    "    return {k: a.get(k, 0) + b.get(k, 0) for k in set(a) | set(b)}\n",
    "\n",
    "df['usage'] = df.apply(\n",
    "    lambda x: sum_usage(x['sender_usage'], x['receiver_usage']), axis=1\n",
    ")\n",
    "\n",
    "df['size'] = df['message_size'].astype('category')\n",
    "\n",
    "# map size values\n",
    "size_map = {\n",
    "  1: '1B',\n",
    "  1000: '1kB',\n",
    "  10000: '10kB',\n",
    "  100000: '100kB',\n",
    "  1000000: '1MB',\n",
    "  10000000: '10MB',\n",
    "  100000000: '100MB',\n",
    "  1000000000: '1GB',\n",
    "}\n",
    "\n",
    "df['size'] = df['size'].map(size_map)\n",
    "\n",
    "df = df[['method', 'latency', 'size', 'usage']]"
   ]
  },
  {
   "cell_type": "code",
   "execution_count": 67,
   "metadata": {},
   "outputs": [
    {
     "data": {
      "text/html": [
       "<div>\n",
       "<style scoped>\n",
       "    .dataframe tbody tr th:only-of-type {\n",
       "        vertical-align: middle;\n",
       "    }\n",
       "\n",
       "    .dataframe tbody tr th {\n",
       "        vertical-align: top;\n",
       "    }\n",
       "\n",
       "    .dataframe thead th {\n",
       "        text-align: right;\n",
       "    }\n",
       "</style>\n",
       "<table border=\"1\" class=\"dataframe\">\n",
       "  <thead>\n",
       "    <tr style=\"text-align: right;\">\n",
       "      <th></th>\n",
       "      <th>method</th>\n",
       "      <th>latency</th>\n",
       "      <th>size</th>\n",
       "      <th>usage</th>\n",
       "    </tr>\n",
       "  </thead>\n",
       "  <tbody>\n",
       "    <tr>\n",
       "      <th>0</th>\n",
       "      <td>s3</td>\n",
       "      <td>135.142207</td>\n",
       "      <td>1B</td>\n",
       "      <td>{'s3:PutObject': 2, 's3:GetObject': 4, 's3:Del...</td>\n",
       "    </tr>\n",
       "    <tr>\n",
       "      <th>1</th>\n",
       "      <td>s3</td>\n",
       "      <td>64.645767</td>\n",
       "      <td>1B</td>\n",
       "      <td>{'s3:PutObject': 2, 's3:GetObject': 4, 's3:Del...</td>\n",
       "    </tr>\n",
       "    <tr>\n",
       "      <th>2</th>\n",
       "      <td>s3</td>\n",
       "      <td>66.353321</td>\n",
       "      <td>1B</td>\n",
       "      <td>{'s3:PutObject': 2, 's3:GetObject': 5, 's3:Del...</td>\n",
       "    </tr>\n",
       "    <tr>\n",
       "      <th>3</th>\n",
       "      <td>s3</td>\n",
       "      <td>54.611802</td>\n",
       "      <td>1B</td>\n",
       "      <td>{'s3:PutObject': 2, 's3:GetObject': 4, 's3:Del...</td>\n",
       "    </tr>\n",
       "    <tr>\n",
       "      <th>4</th>\n",
       "      <td>s3</td>\n",
       "      <td>65.309405</td>\n",
       "      <td>1B</td>\n",
       "      <td>{'s3:PutObject': 2, 's3:GetObject': 6, 's3:Del...</td>\n",
       "    </tr>\n",
       "    <tr>\n",
       "      <th>...</th>\n",
       "      <td>...</td>\n",
       "      <td>...</td>\n",
       "      <td>...</td>\n",
       "      <td>...</td>\n",
       "    </tr>\n",
       "    <tr>\n",
       "      <th>175</th>\n",
       "      <td>auto</td>\n",
       "      <td>1898.063302</td>\n",
       "      <td>100MB</td>\n",
       "      <td>{'s3:PutObject': 2, 's3:GetObject': 161, 's3:D...</td>\n",
       "    </tr>\n",
       "    <tr>\n",
       "      <th>176</th>\n",
       "      <td>auto</td>\n",
       "      <td>1858.399391</td>\n",
       "      <td>100MB</td>\n",
       "      <td>{'s3:PutObject': 2, 's3:GetObject': 152, 's3:D...</td>\n",
       "    </tr>\n",
       "    <tr>\n",
       "      <th>177</th>\n",
       "      <td>auto</td>\n",
       "      <td>2081.294060</td>\n",
       "      <td>100MB</td>\n",
       "      <td>{'s3:PutObject': 2, 's3:GetObject': 169, 's3:D...</td>\n",
       "    </tr>\n",
       "    <tr>\n",
       "      <th>178</th>\n",
       "      <td>auto</td>\n",
       "      <td>1962.457776</td>\n",
       "      <td>100MB</td>\n",
       "      <td>{'s3:PutObject': 2, 's3:GetObject': 160, 's3:D...</td>\n",
       "    </tr>\n",
       "    <tr>\n",
       "      <th>179</th>\n",
       "      <td>auto</td>\n",
       "      <td>2044.159174</td>\n",
       "      <td>100MB</td>\n",
       "      <td>{'s3:PutObject': 2, 's3:GetObject': 179, 's3:D...</td>\n",
       "    </tr>\n",
       "  </tbody>\n",
       "</table>\n",
       "<p>180 rows × 4 columns</p>\n",
       "</div>"
      ],
      "text/plain": [
       "    method      latency   size  \\\n",
       "0       s3   135.142207     1B   \n",
       "1       s3    64.645767     1B   \n",
       "2       s3    66.353321     1B   \n",
       "3       s3    54.611802     1B   \n",
       "4       s3    65.309405     1B   \n",
       "..     ...          ...    ...   \n",
       "175   auto  1898.063302  100MB   \n",
       "176   auto  1858.399391  100MB   \n",
       "177   auto  2081.294060  100MB   \n",
       "178   auto  1962.457776  100MB   \n",
       "179   auto  2044.159174  100MB   \n",
       "\n",
       "                                                 usage  \n",
       "0    {'s3:PutObject': 2, 's3:GetObject': 4, 's3:Del...  \n",
       "1    {'s3:PutObject': 2, 's3:GetObject': 4, 's3:Del...  \n",
       "2    {'s3:PutObject': 2, 's3:GetObject': 5, 's3:Del...  \n",
       "3    {'s3:PutObject': 2, 's3:GetObject': 4, 's3:Del...  \n",
       "4    {'s3:PutObject': 2, 's3:GetObject': 6, 's3:Del...  \n",
       "..                                                 ...  \n",
       "175  {'s3:PutObject': 2, 's3:GetObject': 161, 's3:D...  \n",
       "176  {'s3:PutObject': 2, 's3:GetObject': 152, 's3:D...  \n",
       "177  {'s3:PutObject': 2, 's3:GetObject': 169, 's3:D...  \n",
       "178  {'s3:PutObject': 2, 's3:GetObject': 160, 's3:D...  \n",
       "179  {'s3:PutObject': 2, 's3:GetObject': 179, 's3:D...  \n",
       "\n",
       "[180 rows x 4 columns]"
      ]
     },
     "execution_count": 67,
     "metadata": {},
     "output_type": "execute_result"
    }
   ],
   "source": [
    "df"
   ]
  },
  {
   "cell_type": "code",
   "execution_count": 81,
   "metadata": {},
   "outputs": [
    {
     "data": {
      "image/png": "[encoded data removed]",
      "text/plain": [
       "<Figure size 648x360 with 1 Axes>"
      ]
     },
     "metadata": {
      "needs_background": "light"
     },
     "output_type": "display_data"
    }
   ],
   "source": [
    "plt.figure(figsize=(9, 5))\n",
    "\n",
    "plt.rcParams['font.family'] = 'Linux Libertine'\n",
    "plt.rcParams['svg.fonttype'] = 'none'\n",
    "\n",
    "a = df.query('method == \"s3\"').groupby('size').mean()\n",
    "plt.plot(a.index, a['latency'], 'o-', c='#33739F')\n",
    "a = df.query('method == \"dynamodb\"').groupby('size').mean()\n",
    "plt.plot(a.index, a['latency'], 'o-', c=\"#3B923E\")\n",
    "\n",
    "a = df.query('method == \"auto\"').groupby('size').mean()\n",
    "plt.plot(a.index, a['latency'], 'o-', c=\"#E6318A\")\n",
    "\n",
    "\n",
    "plt.legend(['S3', 'DynamoDB', 'Auto'])\n",
    "plt.ylabel('Average Latency (ms)')\n",
    "plt.xlabel('Message size')\n",
    "# plt.yticks([0.1, 1, 10, 100, 1000, 10_000], ['$0.10', '$1', '$10', '$100', '$1000', '$10000'])\n",
    "plt.grid()\n",
    "plt.yscale('log')\n",
    "\n",
    "plt.tight_layout()\n",
    "plt.savefig(\"img/auto.svg\")\n"
   ]
  },
  {
   "cell_type": "code",
   "execution_count": null,
   "metadata": {},
   "outputs": [],
   "source": []
  }
 ],
 "metadata": {
  "kernelspec": {
   "display_name": "base",
   "language": "python",
   "name": "python3"
  },
  "language_info": {
   "codemirror_mode": {
    "name": "ipython",
    "version": 3
   },
   "file_extension": ".py",
   "mimetype": "text/x-python",
   "name": "python",
   "nbconvert_exporter": "python",
   "pygments_lexer": "ipython3",
   "version": "3.9.12"
  },
  "orig_nbformat": 4
 },
 "nbformat": 4,
 "nbformat_minor": 2
}
