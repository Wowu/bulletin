{
 "cells": [
  {
   "cell_type": "code",
   "execution_count": 14,
   "metadata": {},
   "outputs": [],
   "source": [
    "import os\n",
    "import time\n",
    "import pickle\n",
    "from threading import Thread\n",
    "from concurrent.futures import ThreadPoolExecutor\n",
    "from tensorflow.keras.datasets import mnist\n",
    "from tensorflow.keras.models import Sequential\n",
    "from tensorflow.keras.layers import Dense\n",
    "from tensorflow.keras.optimizers import SGD\n",
    "from tensorflow.keras.utils import to_categorical\n",
    "import numpy as np\n",
    "import pandas as pd"
   ]
  },
  {
   "cell_type": "code",
   "execution_count": 15,
   "metadata": {},
   "outputs": [],
   "source": [
    "def load_data():\n",
    "    # Load the MNIST dataset\n",
    "    (X_train, y_train), (X_test, y_test) = mnist.load_data()\n",
    "    # Flatten and normalize input images\n",
    "    X_train = X_train.reshape((X_train.shape[0], 28 * 28)) / 255.0\n",
    "    X_test = X_test.reshape((X_test.shape[0], 28 * 28)) / 255.0\n",
    "    # Convert the labels to one-hot encoding\n",
    "    y_train = to_categorical(y_train)\n",
    "    y_test = to_categorical(y_test)\n",
    "    return X_train, y_train, X_test, y_test\n",
    "\n",
    "\n",
    "def create_model():\n",
    "    # Create a sequential model\n",
    "    model = Sequential()\n",
    "    # Add a fully connected layer\n",
    "    model.add(Dense(128, activation='relu', input_shape=(28 * 28,)))\n",
    "    # Add the output layer\n",
    "    model.add(Dense(10, activation='softmax'))\n",
    "    # Compile the model with optimizer\n",
    "    model.compile(\n",
    "        optimizer=SGD(learning_rate=0.01),\n",
    "        loss='categorical_crossentropy',\n",
    "        metrics=['accuracy']\n",
    "    )\n",
    "    return model\n"
   ]
  },
  {
   "cell_type": "code",
   "execution_count": 16,
   "metadata": {},
   "outputs": [],
   "source": [
    "X_train, y_train, X_test, y_test = load_data()"
   ]
  },
  {
   "cell_type": "code",
   "execution_count": 17,
   "metadata": {},
   "outputs": [
    {
     "name": "stderr",
     "output_type": "stream",
     "text": [
      "WARNING:absl:At this time, the v2.11+ optimizer `tf.keras.optimizers.SGD` runs slowly on M1/M2 Macs, please use the legacy Keras optimizer instead, located at `tf.keras.optimizers.legacy.SGD`.\n",
      "WARNING:absl:There is a known slowdown when using v2.11+ Keras optimizers on M1/M2 Macs. Falling back to the legacy Keras optimizer, i.e., `tf.keras.optimizers.legacy.SGD`.\n"
     ]
    }
   ],
   "source": [
    "model = create_model()"
   ]
  },
  {
   "cell_type": "code",
   "execution_count": 19,
   "metadata": {},
   "outputs": [
    {
     "name": "stdout",
     "output_type": "stream",
     "text": [
      "3750/3750 [==============================] - 2s 534us/step - loss: 0.2132 - accuracy: 0.9391\n",
      "3750/3750 [==============================] - 2s 510us/step - loss: 0.1854 - accuracy: 0.9474\n",
      "3750/3750 [==============================] - 2s 523us/step - loss: 0.1639 - accuracy: 0.9539\n",
      "3750/3750 [==============================] - 2s 557us/step - loss: 0.1471 - accuracy: 0.9589\n",
      "3750/3750 [==============================] - 2s 560us/step - loss: 0.1337 - accuracy: 0.9624\n",
      "3750/3750 [==============================] - 2s 542us/step - loss: 0.1221 - accuracy: 0.9657\n",
      "3750/3750 [==============================] - 2s 560us/step - loss: 0.1127 - accuracy: 0.9687\n",
      "3750/3750 [==============================] - 2s 512us/step - loss: 0.1046 - accuracy: 0.9704\n",
      "3750/3750 [==============================] - 2s 554us/step - loss: 0.0975 - accuracy: 0.9725\n",
      "3750/3750 [==============================] - 2s 532us/step - loss: 0.0911 - accuracy: 0.9752\n",
      "3750/3750 [==============================] - 2s 508us/step - loss: 0.0854 - accuracy: 0.9766\n",
      "3750/3750 [==============================] - 2s 524us/step - loss: 0.0806 - accuracy: 0.9778\n",
      "3750/3750 [==============================] - 2s 526us/step - loss: 0.0760 - accuracy: 0.9792\n",
      "3750/3750 [==============================] - 2s 520us/step - loss: 0.0719 - accuracy: 0.9807\n",
      "3750/3750 [==============================] - 2s 549us/step - loss: 0.0683 - accuracy: 0.9814\n",
      "3750/3750 [==============================] - 2s 511us/step - loss: 0.0650 - accuracy: 0.9825\n",
      "3750/3750 [==============================] - 2s 531us/step - loss: 0.0618 - accuracy: 0.9836\n",
      "3750/3750 [==============================] - 2s 542us/step - loss: 0.0590 - accuracy: 0.9841\n",
      "3750/3750 [==============================] - 2s 507us/step - loss: 0.0563 - accuracy: 0.9850\n",
      "3750/3750 [==============================] - 2s 549us/step - loss: 0.0540 - accuracy: 0.9859\n",
      "Average time:  2.140462577342987\n",
      "Min time:  2.0253310203552246\n",
      "Max time:  2.272719144821167\n"
     ]
    }
   ],
   "source": [
    "times = []\n",
    "\n",
    "\n",
    "for i in range(20):\n",
    "  start = time.time()\n",
    "  worker_id = 0\n",
    "\n",
    "  model.fit(\n",
    "      X_train,\n",
    "      y_train,\n",
    "      epochs=1,\n",
    "      batch_size=16\n",
    "  )\n",
    "  end = time.time()\n",
    "  times.append(end - start)\n",
    "\n",
    "print(\"Average time: \", sum(times) / len(times))\n",
    "print(\"Min time: \", min(times))\n",
    "print(\"Max time: \", max(times))"
   ]
  },
  {
   "cell_type": "code",
   "execution_count": 21,
   "metadata": {},
   "outputs": [
    {
     "name": "stdout",
     "output_type": "stream",
     "text": [
      "std dev:  0.07334765796447866\n"
     ]
    }
   ],
   "source": [
    "print(\"std dev: \", np.std(times))"
   ]
  },
  {
   "cell_type": "code",
   "execution_count": 24,
   "metadata": {},
   "outputs": [
    {
     "name": "stdout",
     "output_type": "stream",
     "text": [
      "0.10885116404711259\n",
      "0.12214700805923218\n"
     ]
    }
   ],
   "source": [
    "print(1 - min(times) / max(times))\n",
    "print(max(times) / min(times) - 1)\n"
   ]
  }
 ],
 "metadata": {
  "kernelspec": {
   "display_name": "base",
   "language": "python",
   "name": "python3"
  },
  "language_info": {
   "codemirror_mode": {
    "name": "ipython",
    "version": 3
   },
   "file_extension": ".py",
   "mimetype": "text/x-python",
   "name": "python",
   "nbconvert_exporter": "python",
   "pygments_lexer": "ipython3",
   "version": "3.9.12"
  },
  "orig_nbformat": 4
 },
 "nbformat": 4,
 "nbformat_minor": 2
}
