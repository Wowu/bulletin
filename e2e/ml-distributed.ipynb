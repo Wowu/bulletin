{
 "cells": [
  {
   "cell_type": "code",
   "execution_count": 22,
   "metadata": {},
   "outputs": [],
   "source": [
    "from tensorflow.keras.datasets import mnist\n",
    "from tensorflow.keras.models import Sequential\n",
    "from tensorflow.keras.layers import Dense\n",
    "from tensorflow.keras.optimizers import SGD\n",
    "from tensorflow.keras.utils import to_categorical\n",
    "import matplotlib.pyplot as plt\n",
    "import numpy as np\n"
   ]
  },
  {
   "cell_type": "code",
   "execution_count": 23,
   "metadata": {},
   "outputs": [],
   "source": [
    "def load_data():\n",
    "    # Load the MNIST dataset\n",
    "    (X_train, y_train), (X_test, y_test) = mnist.load_data()\n",
    "    # Flatten and normalize input images\n",
    "    X_train = X_train.reshape((X_train.shape[0], 28 * 28)) / 255.0\n",
    "    X_test = X_test.reshape((X_test.shape[0], 28 * 28)) / 255.0\n",
    "    # Convert the labels to one-hot encoding\n",
    "    y_train = to_categorical(y_train)\n",
    "    y_test = to_categorical(y_test)\n",
    "    return X_train, y_train, X_test, y_test"
   ]
  },
  {
   "cell_type": "code",
   "execution_count": 24,
   "metadata": {},
   "outputs": [],
   "source": [
    "def create_model():\n",
    "    # Create a sequential model\n",
    "    model = Sequential()\n",
    "    # Add a fully connected layer\n",
    "    model.add(Dense(128, activation='relu', input_shape=(28 * 28,)))\n",
    "    # Add the output layer\n",
    "    model.add(Dense(10, activation='softmax'))\n",
    "    # Compile the model with optimizer\n",
    "    model.compile(optimizer=SGD(learning_rate=0.01), loss='categorical_crossentropy', metrics=['accuracy'])\n",
    "    return model\n"
   ]
  },
  {
   "cell_type": "code",
   "execution_count": 25,
   "metadata": {},
   "outputs": [],
   "source": [
    "X_train, y_train, X_test, y_test = load_data()"
   ]
  },
  {
   "cell_type": "code",
   "execution_count": 26,
   "metadata": {},
   "outputs": [
    {
     "name": "stderr",
     "output_type": "stream",
     "text": [
      "WARNING:absl:At this time, the v2.11+ optimizer `tf.keras.optimizers.SGD` runs slowly on M1/M2 Macs, please use the legacy Keras optimizer instead, located at `tf.keras.optimizers.legacy.SGD`.\n",
      "WARNING:absl:There is a known slowdown when using v2.11+ Keras optimizers on M1/M2 Macs. Falling back to the legacy Keras optimizer, i.e., `tf.keras.optimizers.legacy.SGD`.\n"
     ]
    }
   ],
   "source": [
    "model = create_model()"
   ]
  },
  {
   "cell_type": "code",
   "execution_count": 96,
   "metadata": {},
   "outputs": [
    {
     "name": "stdout",
     "output_type": "stream",
     "text": [
      "{'loss': 0.5305126905441284, 'accuracy': 0.8650000095367432}\n",
      "{'loss': 0.5302083492279053, 'accuracy': 0.8651666641235352}\n",
      "{'loss': 0.5299046635627747, 'accuracy': 0.8651666641235352}\n",
      "{'loss': 0.5296016931533813, 'accuracy': 0.8653333187103271}\n",
      "{'loss': 0.5292994379997253, 'accuracy': 0.8651666641235352}\n",
      "{'loss': 0.5289977788925171, 'accuracy': 0.8651666641235352}\n",
      "{'loss': 0.5286967754364014, 'accuracy': 0.8651666641235352}\n",
      "{'loss': 0.5283964276313782, 'accuracy': 0.8653333187103271}\n",
      "{'loss': 0.5280967354774475, 'accuracy': 0.8653333187103271}\n",
      "{'loss': 0.5277977585792542, 'accuracy': 0.8653333187103271}\n",
      "{'loss': 0.5274993777275085, 'accuracy': 0.8654999732971191}\n",
      "{'loss': 0.5272017121315002, 'accuracy': 0.8654999732971191}\n",
      "{'loss': 0.5269046425819397, 'accuracy': 0.8654999732971191}\n",
      "{'loss': 0.5266082286834717, 'accuracy': 0.8654999732971191}\n",
      "{'loss': 0.5263125896453857, 'accuracy': 0.8656666874885559}\n",
      "{'loss': 0.5260173082351685, 'accuracy': 0.8658333420753479}\n",
      "{'loss': 0.525722861289978, 'accuracy': 0.8658333420753479}\n",
      "{'loss': 0.5254290103912354, 'accuracy': 0.8659999966621399}\n",
      "{'loss': 0.5251357555389404, 'accuracy': 0.8659999966621399}\n",
      "{'loss': 0.524843156337738, 'accuracy': 0.8659999966621399}\n",
      "{'loss': 0.5245512127876282, 'accuracy': 0.8661666512489319}\n",
      "{'loss': 0.5242598652839661, 'accuracy': 0.8663333058357239}\n",
      "{'loss': 0.5239691138267517, 'accuracy': 0.8663333058357239}\n",
      "{'loss': 0.5236788988113403, 'accuracy': 0.8663333058357239}\n",
      "{'loss': 0.5233893990516663, 'accuracy': 0.8663333058357239}\n",
      "{'loss': 0.5231004953384399, 'accuracy': 0.8663333058357239}\n",
      "{'loss': 0.5228122472763062, 'accuracy': 0.8663333058357239}\n",
      "{'loss': 0.5225244760513306, 'accuracy': 0.8665000200271606}\n",
      "{'loss': 0.5222373604774475, 'accuracy': 0.8665000200271606}\n",
      "{'loss': 0.521950900554657, 'accuracy': 0.8665000200271606}\n",
      "{'loss': 0.521665096282959, 'accuracy': 0.8666666746139526}\n",
      "{'loss': 0.5213799476623535, 'accuracy': 0.8666666746139526}\n",
      "{'loss': 0.5210953950881958, 'accuracy': 0.8666666746139526}\n",
      "{'loss': 0.5208114981651306, 'accuracy': 0.8668333292007446}\n",
      "{'loss': 0.5205281376838684, 'accuracy': 0.8668333292007446}\n",
      "{'loss': 0.5202454328536987, 'accuracy': 0.8671666383743286}\n",
      "{'loss': 0.5199632048606873, 'accuracy': 0.8671666383743286}\n",
      "{'loss': 0.5196816921234131, 'accuracy': 0.8671666383743286}\n",
      "{'loss': 0.5194006562232971, 'accuracy': 0.8671666383743286}\n",
      "{'loss': 0.5191202163696289, 'accuracy': 0.8673333525657654}\n",
      "{'loss': 0.5188403129577637, 'accuracy': 0.8673333525657654}\n",
      "{'loss': 0.5185610055923462, 'accuracy': 0.8673333525657654}\n",
      "{'loss': 0.518282413482666, 'accuracy': 0.8673333525657654}\n",
      "{'loss': 0.518004298210144, 'accuracy': 0.8675000071525574}\n",
      "{'loss': 0.5177267789840698, 'accuracy': 0.8675000071525574}\n",
      "{'loss': 0.5174498558044434, 'accuracy': 0.8675000071525574}\n",
      "{'loss': 0.5171734094619751, 'accuracy': 0.8675000071525574}\n",
      "{'loss': 0.5168976187705994, 'accuracy': 0.8676666617393494}\n",
      "{'loss': 0.5166223049163818, 'accuracy': 0.8676666617393494}\n",
      "{'loss': 0.5163475871086121, 'accuracy': 0.8676666617393494}\n",
      "{'loss': 0.5160735845565796, 'accuracy': 0.8678333163261414}\n",
      "{'loss': 0.5158001184463501, 'accuracy': 0.8678333163261414}\n",
      "{'loss': 0.5155271291732788, 'accuracy': 0.8678333163261414}\n",
      "{'loss': 0.5152547359466553, 'accuracy': 0.8678333163261414}\n",
      "{'loss': 0.514983057975769, 'accuracy': 0.8678333163261414}\n",
      "{'loss': 0.5147116780281067, 'accuracy': 0.8678333163261414}\n",
      "{'loss': 0.5144410133361816, 'accuracy': 0.8676666617393494}\n",
      "{'loss': 0.5141708850860596, 'accuracy': 0.8678333163261414}\n",
      "{'loss': 0.5139013528823853, 'accuracy': 0.8679999709129333}\n",
      "{'loss': 0.5136322975158691, 'accuracy': 0.8683333396911621}\n",
      "{'loss': 0.5133639574050903, 'accuracy': 0.8683333396911621}\n",
      "{'loss': 0.513096034526825, 'accuracy': 0.8683333396911621}\n",
      "{'loss': 0.5128285884857178, 'accuracy': 0.8683333396911621}\n",
      "{'loss': 0.5125617980957031, 'accuracy': 0.8684999942779541}\n",
      "{'loss': 0.5122955441474915, 'accuracy': 0.8686666488647461}\n",
      "{'loss': 0.5120298862457275, 'accuracy': 0.8686666488647461}\n",
      "{'loss': 0.511764645576477, 'accuracy': 0.8686666488647461}\n",
      "{'loss': 0.5114999413490295, 'accuracy': 0.8688333630561829}\n",
      "{'loss': 0.511235773563385, 'accuracy': 0.8690000176429749}\n",
      "{'loss': 0.5109720230102539, 'accuracy': 0.8690000176429749}\n",
      "{'loss': 0.5107088088989258, 'accuracy': 0.8690000176429749}\n",
      "{'loss': 0.5104462504386902, 'accuracy': 0.8690000176429749}\n",
      "{'loss': 0.5101840496063232, 'accuracy': 0.8690000176429749}\n",
      "{'loss': 0.509922444820404, 'accuracy': 0.8690000176429749}\n",
      "{'loss': 0.5096613168716431, 'accuracy': 0.8691666722297668}\n",
      "{'loss': 0.5094007849693298, 'accuracy': 0.8693333268165588}\n",
      "{'loss': 0.5091407299041748, 'accuracy': 0.8693333268165588}\n",
      "{'loss': 0.5088810920715332, 'accuracy': 0.8693333268165588}\n",
      "{'loss': 0.5086219906806946, 'accuracy': 0.8693333268165588}\n",
      "{'loss': 0.5083635449409485, 'accuracy': 0.8694999814033508}\n",
      "{'loss': 0.5081055760383606, 'accuracy': 0.8694999814033508}\n",
      "{'loss': 0.5078479647636414, 'accuracy': 0.8694999814033508}\n",
      "{'loss': 0.5075908899307251, 'accuracy': 0.8694999814033508}\n",
      "{'loss': 0.5073344111442566, 'accuracy': 0.8696666955947876}\n",
      "{'loss': 0.5070784687995911, 'accuracy': 0.8696666955947876}\n",
      "{'loss': 0.506822943687439, 'accuracy': 0.8696666955947876}\n",
      "{'loss': 0.5065680146217346, 'accuracy': 0.8696666955947876}\n",
      "{'loss': 0.5063135623931885, 'accuracy': 0.8694999814033508}\n",
      "{'loss': 0.5060596466064453, 'accuracy': 0.8694999814033508}\n",
      "{'loss': 0.5058062672615051, 'accuracy': 0.8693333268165588}\n",
      "{'loss': 0.5055533647537231, 'accuracy': 0.8694999814033508}\n",
      "{'loss': 0.5053009390830994, 'accuracy': 0.8694999814033508}\n",
      "{'loss': 0.5050490498542786, 'accuracy': 0.8693333268165588}\n",
      "{'loss': 0.5047975778579712, 'accuracy': 0.8693333268165588}\n",
      "{'loss': 0.504546582698822, 'accuracy': 0.8696666955947876}\n",
      "{'loss': 0.5042960047721863, 'accuracy': 0.8696666955947876}\n",
      "{'loss': 0.5040459632873535, 'accuracy': 0.8696666955947876}\n",
      "{'loss': 0.503796398639679, 'accuracy': 0.8696666955947876}\n",
      "{'loss': 0.5035473108291626, 'accuracy': 0.8696666955947876}\n",
      "{'loss': 0.5032986402511597, 'accuracy': 0.8696666955947876}\n",
      "(784, 128)\n",
      "(128,)\n"
     ]
    }
   ],
   "source": [
    "workers = 10\n",
    "rank = 0\n",
    "\n",
    "old_weights = model.get_weights()\n",
    "for i in range(100):\n",
    "  print(model.train_on_batch(x=X_train[rank::workers], y=y_train[rank::workers], return_dict=True))\n",
    "new_weights = model.get_weights()\n",
    "\n",
    "print(old_weights[0].shape)\n",
    "print(old_weights[1].shape)\n",
    "\n"
   ]
  }
 ],
 "metadata": {
  "kernelspec": {
   "display_name": "base",
   "language": "python",
   "name": "python3"
  },
  "language_info": {
   "codemirror_mode": {
    "name": "ipython",
    "version": 3
   },
   "file_extension": ".py",
   "mimetype": "text/x-python",
   "name": "python",
   "nbconvert_exporter": "python",
   "pygments_lexer": "ipython3",
   "version": "3.9.12"
  },
  "orig_nbformat": 4
 },
 "nbformat": 4,
 "nbformat_minor": 2
}
